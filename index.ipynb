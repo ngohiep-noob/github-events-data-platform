{
 "cells": [
  {
   "cell_type": "code",
   "execution_count": 7,
   "metadata": {},
   "outputs": [],
   "source": [
    "import pandas as pd"
   ]
  },
  {
   "cell_type": "code",
   "execution_count": 8,
   "metadata": {},
   "outputs": [
    {
     "name": "stdout",
     "output_type": "stream",
     "text": [
      "Read 185138 objects\n"
     ]
    }
   ],
   "source": [
    "import json \n",
    "\n",
    "raw = []\n",
    "\n",
    "# Open the file in read mode\n",
    "with open('api/data/2024-12-01-5.json', 'r') as file:\n",
    "    # Read each line in the file\n",
    "    for line in file:        \n",
    "        # Convert the string to a dictionary\n",
    "        data = json.loads(line)\n",
    "        raw.append(data)\n",
    "    print(f'Read {len(raw)} objects')"
   ]
  },
  {
   "cell_type": "code",
   "execution_count": 9,
   "metadata": {},
   "outputs": [
    {
     "data": {
      "text/html": [
       "<div>\n",
       "<style scoped>\n",
       "    .dataframe tbody tr th:only-of-type {\n",
       "        vertical-align: middle;\n",
       "    }\n",
       "\n",
       "    .dataframe tbody tr th {\n",
       "        vertical-align: top;\n",
       "    }\n",
       "\n",
       "    .dataframe thead th {\n",
       "        text-align: right;\n",
       "    }\n",
       "</style>\n",
       "<table border=\"1\" class=\"dataframe\">\n",
       "  <thead>\n",
       "    <tr style=\"text-align: right;\">\n",
       "      <th></th>\n",
       "      <th>id</th>\n",
       "      <th>type</th>\n",
       "      <th>actor</th>\n",
       "      <th>repo</th>\n",
       "      <th>payload</th>\n",
       "      <th>public</th>\n",
       "      <th>created_at</th>\n",
       "      <th>org</th>\n",
       "    </tr>\n",
       "  </thead>\n",
       "  <tbody>\n",
       "    <tr>\n",
       "      <th>0</th>\n",
       "      <td>44347257971</td>\n",
       "      <td>PushEvent</td>\n",
       "      <td>{'id': 64357205, 'login': 'dead-hostsbot', 'di...</td>\n",
       "      <td>{'id': 121034627, 'name': 'dead-hosts/rlwpx.fr...</td>\n",
       "      <td>{'repository_id': 121034627, 'push_id': 214802...</td>\n",
       "      <td>True</td>\n",
       "      <td>2024-12-01T05:00:00Z</td>\n",
       "      <td>{'id': 35098159, 'login': 'dead-hosts', 'grava...</td>\n",
       "    </tr>\n",
       "    <tr>\n",
       "      <th>1</th>\n",
       "      <td>44347257973</td>\n",
       "      <td>PushEvent</td>\n",
       "      <td>{'id': 101882971, 'login': 'Soumyoghosh2410', ...</td>\n",
       "      <td>{'id': 896484594, 'name': 'Soumyoghosh2410/Fin...</td>\n",
       "      <td>{'repository_id': 896484594, 'push_id': 214802...</td>\n",
       "      <td>True</td>\n",
       "      <td>2024-12-01T05:00:00Z</td>\n",
       "      <td>NaN</td>\n",
       "    </tr>\n",
       "    <tr>\n",
       "      <th>2</th>\n",
       "      <td>44347257974</td>\n",
       "      <td>ReleaseEvent</td>\n",
       "      <td>{'id': 41898282, 'login': 'github-actions[bot]...</td>\n",
       "      <td>{'id': 782132788, 'name': 'MagitekRB/MagitekRo...</td>\n",
       "      <td>{'action': 'published', 'release': {'url': 'ht...</td>\n",
       "      <td>True</td>\n",
       "      <td>2024-12-01T05:00:00Z</td>\n",
       "      <td>{'id': 166054600, 'login': 'MagitekRB', 'grava...</td>\n",
       "    </tr>\n",
       "    <tr>\n",
       "      <th>3</th>\n",
       "      <td>44347257975</td>\n",
       "      <td>PushEvent</td>\n",
       "      <td>{'id': 177991301, 'login': 'langasai', 'displa...</td>\n",
       "      <td>{'id': 896706453, 'name': 'langasai/yap-app', ...</td>\n",
       "      <td>{'repository_id': 896706453, 'push_id': 214802...</td>\n",
       "      <td>True</td>\n",
       "      <td>2024-12-01T05:00:00Z</td>\n",
       "      <td>NaN</td>\n",
       "    </tr>\n",
       "    <tr>\n",
       "      <th>4</th>\n",
       "      <td>44347257977</td>\n",
       "      <td>PushEvent</td>\n",
       "      <td>{'id': 55022302, 'login': 'bayupadji', 'displa...</td>\n",
       "      <td>{'id': 886568993, 'name': 'bayupadji/absensi-h...</td>\n",
       "      <td>{'repository_id': 886568993, 'push_id': 214802...</td>\n",
       "      <td>True</td>\n",
       "      <td>2024-12-01T05:00:00Z</td>\n",
       "      <td>NaN</td>\n",
       "    </tr>\n",
       "  </tbody>\n",
       "</table>\n",
       "</div>"
      ],
      "text/plain": [
       "            id          type  \\\n",
       "0  44347257971     PushEvent   \n",
       "1  44347257973     PushEvent   \n",
       "2  44347257974  ReleaseEvent   \n",
       "3  44347257975     PushEvent   \n",
       "4  44347257977     PushEvent   \n",
       "\n",
       "                                               actor  \\\n",
       "0  {'id': 64357205, 'login': 'dead-hostsbot', 'di...   \n",
       "1  {'id': 101882971, 'login': 'Soumyoghosh2410', ...   \n",
       "2  {'id': 41898282, 'login': 'github-actions[bot]...   \n",
       "3  {'id': 177991301, 'login': 'langasai', 'displa...   \n",
       "4  {'id': 55022302, 'login': 'bayupadji', 'displa...   \n",
       "\n",
       "                                                repo  \\\n",
       "0  {'id': 121034627, 'name': 'dead-hosts/rlwpx.fr...   \n",
       "1  {'id': 896484594, 'name': 'Soumyoghosh2410/Fin...   \n",
       "2  {'id': 782132788, 'name': 'MagitekRB/MagitekRo...   \n",
       "3  {'id': 896706453, 'name': 'langasai/yap-app', ...   \n",
       "4  {'id': 886568993, 'name': 'bayupadji/absensi-h...   \n",
       "\n",
       "                                             payload  public  \\\n",
       "0  {'repository_id': 121034627, 'push_id': 214802...    True   \n",
       "1  {'repository_id': 896484594, 'push_id': 214802...    True   \n",
       "2  {'action': 'published', 'release': {'url': 'ht...    True   \n",
       "3  {'repository_id': 896706453, 'push_id': 214802...    True   \n",
       "4  {'repository_id': 886568993, 'push_id': 214802...    True   \n",
       "\n",
       "             created_at                                                org  \n",
       "0  2024-12-01T05:00:00Z  {'id': 35098159, 'login': 'dead-hosts', 'grava...  \n",
       "1  2024-12-01T05:00:00Z                                                NaN  \n",
       "2  2024-12-01T05:00:00Z  {'id': 166054600, 'login': 'MagitekRB', 'grava...  \n",
       "3  2024-12-01T05:00:00Z                                                NaN  \n",
       "4  2024-12-01T05:00:00Z                                                NaN  "
      ]
     },
     "execution_count": 9,
     "metadata": {},
     "output_type": "execute_result"
    }
   ],
   "source": [
    "df = pd.DataFrame(raw)\n",
    "df.head()"
   ]
  },
  {
   "cell_type": "code",
   "execution_count": 10,
   "metadata": {},
   "outputs": [
    {
     "data": {
      "image/png": "[encoded data removed]",
      "text/plain": [
       "<Figure size 640x480 with 1 Axes>"
      ]
     },
     "metadata": {},
     "output_type": "display_data"
    }
   ],
   "source": [
    "# histogram of created_at in minutes\n",
    "import matplotlib.pyplot as plt\n",
    "\n",
    "df['created_at'] = pd.to_datetime(df['created_at'])\n",
    "df['created_at'].hist(bins=20)\n",
    "plt.show()"
   ]
  }
 ],
 "metadata": {
  "kernelspec": {
   "display_name": "base",
   "language": "python",
   "name": "python3"
  },
  "language_info": {
   "codemirror_mode": {
    "name": "ipython",
    "version": 3
   },
   "file_extension": ".py",
   "mimetype": "text/x-python",
   "name": "python",
   "nbconvert_exporter": "python",
   "pygments_lexer": "ipython3",
   "version": "3.12.3"
  }
 },
 "nbformat": 4,
 "nbformat_minor": 2
}
