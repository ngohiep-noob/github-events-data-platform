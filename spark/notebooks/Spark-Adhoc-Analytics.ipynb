{
 "cells": [
  {
   "cell_type": "code",
   "execution_count": 1,
   "id": "04571919",
   "metadata": {},
   "outputs": [
    {
     "name": "stderr",
     "output_type": "stream",
     "text": [
      "/usr/local/lib/python3.10/site-packages/pyspark/bin/load-spark-env.sh: line 68: ps: command not found\n",
      "25/03/26 16:34:25 WARN NativeCodeLoader: Unable to load native-hadoop library for your platform... using builtin-java classes where applicable\n",
      "Setting default log level to \"WARN\".\n",
      "To adjust logging level use sc.setLogLevel(newLevel). For SparkR, use setLogLevel(newLevel).\n"
     ]
    }
   ],
   "source": [
    "from pyspark.sql import SparkSession\n",
    "\n",
    "\n",
    "spark = (\n",
    "    SparkSession.builder.master(\"spark://spark-master:7077\")\n",
    "    .appName(\"GHArchive\")\n",
    "    .config(\n",
    "        \"spark.jars\",\n",
    "        \"/app/jars/clickhouse-jdbc-0.6.3.jar,/app/jars/clickhouse-spark-runtime-3.5_2.12-0.8.0.jar\",\n",
    "    )\n",
    "    .config(\"spark.sql.catalog.clickhouse\", \"com.clickhouse.spark.ClickHouseCatalog\")\n",
    "    .config(\"spark.sql.catalog.clickhouse.host\", \"clickhouse\")\n",
    "    .config(\"spark.sql.catalog.clickhouse.user\", \"default\")\n",
    "    .config(\"spark.sql.catalog.clickhouse.password\", \"default\")\n",
    "    .config(\"spark.sql.catalog.clickhouse.database\", \"gharchive\")\n",
    "    .getOrCreate()\n",
    ")"
   ]
  },
  {
   "cell_type": "code",
   "execution_count": 2,
   "id": "19e19364",
   "metadata": {},
   "outputs": [
    {
     "name": "stderr",
     "output_type": "stream",
     "text": [
      "25/03/26 16:34:33 WARN SparkStringUtils: Truncated the string representation of a plan since it was too large. This behavior can be adjusted by setting 'spark.sql.debug.maxToStringFields'.\n",
      "                                                                                \r"
     ]
    },
    {
     "name": "stdout",
     "output_type": "stream",
     "text": [
      "+-------------------+------------------+-------------------+--------------------+-------------------+-------------------+------+----------+--------------------+----+--------+----+---+--------+-------------------+------+-----+------+-----+------+--------+---------+--------+------------------+-------------------+-------------------+----------------+-------------------+---------------+--------+--------+--------+--------+------+---------+----------+---------------+---------+---------------+---------------------+-------+---------+---------+-------------+---------+-----------------+--------------------+------------------+---------+------------------+------------+----------------+------------+------------+\n",
      "|          synced_at|        event_type|        actor_login|           repo_name|         created_at|         updated_at|action|comment_id|                body|path|position|line|ref|ref_type| creator_user_login|number|title|labels|state|locked|assignee|assignees|comments|author_association|          closed_at|          merged_at|merge_commit_sha|requested_reviewers|requested_teams|head_ref|head_sha|base_ref|base_sha|merged|mergeable|rebaseable|mergeable_state|merged_by|review_comments|maintainer_can_modify|commits|additions|deletions|changed_files|diff_hunk|original_position|           commit_id|original_commit_id|push_size|push_distinct_size|member_login|release_tag_name|release_name|review_state|\n",
      "+-------------------+------------------+-------------------+--------------------+-------------------+-------------------+------+----------+--------------------+----+--------+----+---+--------+-------------------+------+-----+------+-----+------+--------+---------+--------+------------------+-------------------+-------------------+----------------+-------------------+---------------+--------+--------+--------+--------+------+---------+----------+---------------+---------+---------------+---------------------+-------+---------+---------+-------------+---------+-----------------+--------------------+------------------+---------+------------------+------------+----------------+------------+------------+\n",
      "|2025-03-22 09:28:53|CommitCommentEvent|        vercel[bot]|1123377679/codefa...|2024-12-02 09:05:11|2024-12-02 09:05:11|  none| 149807431|Successfully depl...|    |       0|   0|   |    none|        vercel[bot]|     0|     |    []| none|     0|        |       []|       0|              NONE|1970-01-01 00:00:00|1970-01-01 00:00:00|                |                 []|             []|        |        |        |        |     0|        0|         0|        unknown|         |              0|                    0|      0|        0|        0|            0|         |                0|0cd82f2844c583bc7...|                  |        0|                 0|            |                |            |        none|\n",
      "|2025-03-22 09:18:59|CommitCommentEvent|github-actions[bot]|7rikazhexde/pytho...|2024-12-01 08:39:46|2024-12-01 08:39:46|  none| 149783782|<!-- Pytest Cover...|    |       0|   0|   |    none|github-actions[bot]|     0|     |    []| none|     0|        |       []|       0|              NONE|1970-01-01 00:00:00|1970-01-01 00:00:00|                |                 []|             []|        |        |        |        |     0|        0|         0|        unknown|         |              0|                    0|      0|        0|        0|            0|         |                0|ce9c2caa6e9f2c3a1...|                  |        0|                 0|            |                |            |        none|\n",
      "|2025-03-22 09:18:20|CommitCommentEvent|github-actions[bot]|AIIT-Oikawa-PBL-2...|2024-12-01 08:25:59|2024-12-01 08:25:59|  none| 149783560|<!-- Pytest Cover...|    |       0|   0|   |    none|github-actions[bot]|     0|     |    []| none|     0|        |       []|       0|              NONE|1970-01-01 00:00:00|1970-01-01 00:00:00|                |                 []|             []|        |        |        |        |     0|        0|         0|        unknown|         |              0|                    0|      0|        0|        0|            0|         |                0|3727458f4bc90b78b...|                  |        0|                 0|            |                |            |        none|\n",
      "|2025-03-22 09:31:12|CommitCommentEvent|    Abdisamadmyusuf|Abdisamadmyusuf/A...|2024-12-02 09:35:41|2024-12-02 09:35:41|  none| 149808357|$ ssh -T git@gith...|    |       0|   0|   |    none|    Abdisamadmyusuf|     0|     |    []| none|     0|        |       []|       0|              NONE|1970-01-01 00:00:00|1970-01-01 00:00:00|                |                 []|             []|        |        |        |        |     0|        0|         0|        unknown|         |              0|                    0|      0|        0|        0|            0|         |                0|a24a173e78cd51cd0...|                  |        0|                 0|            |                |            |        none|\n",
      "|2025-03-22 09:31:12|CommitCommentEvent|    Abdisamadmyusuf|Abdisamadmyusuf/A...|2024-12-02 09:39:41|2024-12-02 09:39:41|  none| 149808488|Host gmail.com.co...|    |       0|   0|   |    none|    Abdisamadmyusuf|     0|     |    []| none|     0|        |       []|       0|              NONE|1970-01-01 00:00:00|1970-01-01 00:00:00|                |                 []|             []|        |        |        |        |     0|        0|         0|        unknown|         |              0|                    0|      0|        0|        0|            0|         |                0|a24a173e78cd51cd0...|                  |        0|                 0|            |                |            |        none|\n",
      "|2025-03-22 09:18:36|CommitCommentEvent|           monniaux|     AbsInt/CompCert|2024-12-01 08:31:09|2024-12-01 08:31:09|  none| 149783623|Now passes test 0...|    |       0|   0|   |    none|           monniaux|     0|     |    []| none|     0|        |       []|       0|              NONE|1970-01-01 00:00:00|1970-01-01 00:00:00|                |                 []|             []|        |        |        |        |     0|        0|         0|        unknown|         |              0|                    0|      0|        0|        0|            0|         |                0|a502e953f35fa8c7e...|                  |        0|                 0|            |                |            |        none|\n",
      "|2025-03-22 09:18:08|CommitCommentEvent|        vercel[bot]|        Alepse/rabas|2024-12-01 08:22:43|2024-12-01 08:22:43|  none| 149783528|Successfully depl...|    |       0|   0|   |    none|        vercel[bot]|     0|     |    []| none|     0|        |       []|       0|              NONE|1970-01-01 00:00:00|1970-01-01 00:00:00|                |                 []|             []|        |        |        |        |     0|        0|         0|        unknown|         |              0|                    0|      0|        0|        0|            0|         |                0|f878ba4e1a28bcc0c...|                  |        0|                 0|            |                |            |        none|\n",
      "|2025-03-22 09:25:09|CommitCommentEvent|        vercel[bot]|        Alepse/rabas|2024-12-02 08:18:44|2024-12-02 08:18:44|  none| 149806175|Successfully depl...|    |       0|   0|   |    none|        vercel[bot]|     0|     |    []| none|     0|        |       []|       0|              NONE|1970-01-01 00:00:00|1970-01-01 00:00:00|                |                 []|             []|        |        |        |        |     0|        0|         0|        unknown|         |              0|                    0|      0|        0|        0|            0|         |                0|13828097d2752df15...|                  |        0|                 0|            |                |            |        none|\n",
      "|2025-03-22 09:19:39|CommitCommentEvent|             23czap|AlexYTGamePL/back...|2024-12-01 08:42:28|2024-12-01 08:42:28|  none| 149783840|                 git|    |       0|   0|   |    none|             23czap|     0|     |    []| none|     0|        |       []|       0|              NONE|1970-01-01 00:00:00|1970-01-01 00:00:00|                |                 []|             []|        |        |        |        |     0|        0|         0|        unknown|         |              0|                    0|      0|        0|        0|            0|         |                0|d678e8a596c67df88...|                  |        0|                 0|            |                |            |        none|\n",
      "|2025-03-22 09:19:56|CommitCommentEvent|             23czap|AlexYTGamePL/back...|2024-12-01 08:46:19|2024-12-01 08:46:19|  none| 149783912|git XD dużo do sp...|    |       0|   0|   |    none|             23czap|     0|     |    []| none|     0|        |       []|       0|              NONE|1970-01-01 00:00:00|1970-01-01 00:00:00|                |                 []|             []|        |        |        |        |     0|        0|         0|        unknown|         |              0|                    0|      0|        0|        0|            0|         |                0|3b875a80392cfcf61...|                  |        0|                 0|            |                |            |        none|\n",
      "+-------------------+------------------+-------------------+--------------------+-------------------+-------------------+------+----------+--------------------+----+--------+----+---+--------+-------------------+------+-----+------+-----+------+--------+---------+--------+------------------+-------------------+-------------------+----------------+-------------------+---------------+--------+--------+--------+--------+------+---------+----------+---------------+---------+---------------+---------------------+-------+---------+---------+-------------+---------+-----------------+--------------------+------------------+---------+------------------+------------+----------------+------------+------------+\n",
      "\n"
     ]
    }
   ],
   "source": [
    "df = spark.sql(\"select * from clickhouse.gharchive.github_events limit 10\")\n",
    "df.show()"
   ]
  },
  {
   "cell_type": "code",
   "execution_count": 3,
   "id": "34942ca8",
   "metadata": {},
   "outputs": [],
   "source": [
    "# close the session\n",
    "spark.stop()"
   ]
  },
  {
   "cell_type": "code",
   "execution_count": null,
   "id": "2f85e002",
   "metadata": {},
   "outputs": [],
   "source": []
  }
 ],
 "metadata": {
  "kernelspec": {
   "display_name": "Python 3 (ipykernel)",
   "language": "python",
   "name": "python3"
  }
 },
 "nbformat": 4,
 "nbformat_minor": 5
}
